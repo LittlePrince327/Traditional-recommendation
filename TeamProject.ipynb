{
 "cells": [
  {
   "cell_type": "code",
   "execution_count": 1,
   "id": "616ae898",
   "metadata": {},
   "outputs": [],
   "source": [
    "import os\n",
    "import cv2\n",
    "import time\n",
    "import pandas as pd\n",
    "from selenium import webdriver\n",
    "from selenium.webdriver.common.by import By\n",
    "from selenium.webdriver.common.keys import Keys\n",
    "from selenium.common.exceptions import TimeoutException\n",
    "from selenium.webdriver.support.ui import WebDriverWait\n",
    "from selenium.common.exceptions import NoSuchElementException\n",
    "from selenium.webdriver.support import expected_conditions as EC"
   ]
  },
  {
   "cell_type": "code",
   "execution_count": 2,
   "id": "e1449211",
   "metadata": {},
   "outputs": [
    {
     "name": "stdout",
     "output_type": "stream",
     "text": [
      "0           입장탁주\n",
      "1        톡 한잔 소주\n",
      "2    자연담은 복분자막걸리\n",
      "3        로얄 안동소주\n",
      "4           지란지교\n",
      "5    지란지교 무화과 탁주\n",
      "6        지란지교 약주\n",
      "7           꽃 와인\n",
      "8      인사이더 블루베리\n",
      "9     로제사이더 오미한잔\n",
      "Name: 전통주명, dtype: object\n",
      "<zip object at 0x000001A52B4B7480>\n"
     ]
    }
   ],
   "source": [
    "df = pd.read_csv('한국농수산식품유통공사_전통주 정보_20230301.csv', encoding='cp949')\n",
    "print(df.iloc[:10, 0])\n",
    "search_list = df.iloc[:10, 0].items()  # 첫 10개 검색어만 사용\n",
    "print(search_list)\n",
    "driver = webdriver.Chrome()\n",
    "driver.get('https://www.sooldamhwa.com')\n",
    "\n",
    "# 술 리스트\n",
    "liquor_list = []"
   ]
  },
  {
   "cell_type": "code",
   "execution_count": 3,
   "id": "36469c94",
   "metadata": {},
   "outputs": [],
   "source": [
    "liquor_list = []\n",
    "def search(driver, name):\n",
    "    time.sleep(3)\n",
    "    # homepage 들어가기\n",
    "    homepage = driver.find_element(By.XPATH, '//*[@id=\"__next\"]/div/div[1]/div/section[1]/ul/li[3]/div/span')\n",
    "    homepage.click()\n",
    "    \n",
    "    # 검색창 클릭\n",
    "    time.sleep(1)\n",
    "    input_box = driver.find_element(By.XPATH, '/html/body/div[1]/div/div[1]/div[1]/div/form/input')\n",
    "    input_box.clear()\n",
    "    input_box.send_keys(name)\n",
    "    input_box.send_keys(Keys.RETURN)\n",
    "    \n",
    "    found_drinks = []\n",
    "    try:\n",
    "        element_present = EC.presence_of_element_located((By.XPATH, '//*[@id=\"__next\"]/div/div[2]/div/div[2]/div/div/div/div[2]/div/div[1]/div/a'))\n",
    "        WebDriverWait(driver, 3).until(element_present)\n",
    "        \n",
    "        for idx in range(1, 31):  # 시작 인덱스를 1로 변경 (1부터 30까지 검사)\n",
    "            # 예상 검색 결과 요소 선택\n",
    "            result_element = driver.find_element(By.XPATH, '//*[@id=\"__next\"]/div/div[2]/div/div[2]/div/div/div/div[2]/div/div[{}]/div/a'.format(idx))\n",
    "            \n",
    "            if \"선물세트\" in result_element.text:\n",
    "                print(\"선물세트는 배제됩니다.\")\n",
    "                continue  # 다음 술을 검색합니다.\n",
    "            else:\n",
    "                # 검색 결과 링크 클릭\n",
    "                result_element.click()\n",
    "                found_drinks.append(name)\n",
    "                print(f\"찾은 술: {name}\")\n",
    "                return result_element, found_drinks\n",
    "\n",
    "    except TimeoutException:\n",
    "        print(f\"검색 결과가 로드되지 않았습니다: {name}\")\n",
    "        return []\n",
    "    except NoSuchElementException:\n",
    "        pass  # 해당 요소를 찾지 못해도 넘어갑니다.\n",
    "    \n",
    "    # 검색 결과가 없는 경우 빈 리스트 반환\n",
    "    if not found_drinks:\n",
    "        return [], None\n",
    "    return found_drinks, result_element\n",
    "            \n"
   ]
  },
  {
   "cell_type": "code",
   "execution_count": 4,
   "id": "884ed021",
   "metadata": {},
   "outputs": [],
   "source": [
    "# for index, name in search_list:\n",
    "#     print(f\"{name}을(를) 찾고있습니다.\")\n",
    "#     found_drinks = search(driver, name)\n",
    "#     liquor_list.extend(found_drinks)\n",
    "    \n",
    "# print(\"Found drinks:\")\n",
    "# print(\"총 {}개 입니다.\".format(len(liquor_list)))\n",
    "# print(liquor_list)"
   ]
  },
  {
   "cell_type": "code",
   "execution_count": 5,
   "id": "4c04ac38",
   "metadata": {},
   "outputs": [],
   "source": [
    "# 주종\n",
    "def type_liquor():\n",
    "    type_liquor_element = result_element.find_element(By.XPATH, '//*[@id=\"__next\"]/div/div[2]/div/div[1]/div[1]/div[2]/div/div[3]/div[1]/span')\n",
    "    type_liquor_text = type_liquor_element.text\n",
    "    print(\"주종:\", type_liquor_text)\n",
    "    return type_liquor_text\n",
    "\n",
    "# 도수\n",
    "def number_alcohol():\n",
    "    number_alcohol_element = result_element.find_element(By.XPATH, '//*[@id=\"__next\"]/div/div[2]/div/div[1]/div[1]/div[2]/div/div[3]/div[2]/span')\n",
    "    number_liquor_text = number_alcohol_element.text\n",
    "    print(\"도수:\", number_liquor_text)\n",
    "    return number_liquor_text\n",
    "\n",
    "\n",
    "# 유통기한\n",
    "def expiration_date():\n",
    "    expiration_date_element = result_element.find_element(By.XPATH, '//*[@id=\"__next\"]/div/div[2]/div/div[1]/div[1]/div[2]/div/div[4]/div[3]/span')\n",
    "    expiration_date_text = expiration_date_element.text\n",
    "    print(\"유통기한:\", expiration_date_text)\n",
    "    return expiration_date_text\n",
    "\n",
    "# 보관방법\n",
    "def storage_method():\n",
    "    storage_method_element = result_element.find_element(By.XPATH, '//*[@id=\"__next\"]/div/div[2]/div/div[1]/div[1]/div[2]/div/div[4]/div[4]/span')\n",
    "    storage_method_text = storage_method_element.text\n",
    "    print(\"보관방법:\", storage_method_text)\n",
    "    return storage_method_text\n"
   ]
  },
  {
   "cell_type": "code",
   "execution_count": 6,
   "id": "654b6c6f",
   "metadata": {},
   "outputs": [],
   "source": [
    "# 어울리는 안주\n",
    "def all_side_dishes():\n",
    "    # 부모 XPATH를 사용하여 모든 어울리는 안주들을 찾습니다.\n",
    "    side_dishes_elements = result_element.find_elements(By.XPATH, '//*[@id=\"__next\"]/div/div[2]/div/div[1]/div[4]/div[2]/div/*/label')\n",
    "    \n",
    "    # 각 안주의 텍스트를 리스트에 저장합니다.\n",
    "    side_dishes_texts = [dish.text for dish in side_dishes_elements]\n",
    "    print(\"어울리는 안주:\", side_dishes_texts)\n",
    "    return side_dishes_texts"
   ]
  },
  {
   "cell_type": "code",
   "execution_count": 7,
   "id": "e9e160d8",
   "metadata": {},
   "outputs": [
    {
     "name": "stdout",
     "output_type": "stream",
     "text": [
      "검색 결과가 로드되지 않았습니다: (0, '입장탁주')\n"
     ]
    },
    {
     "ename": "ValueError",
     "evalue": "not enough values to unpack (expected 2, got 0)",
     "output_type": "error",
     "traceback": [
      "\u001b[1;31m---------------------------------------------------------------------------\u001b[0m",
      "\u001b[1;31mValueError\u001b[0m                                Traceback (most recent call last)",
      "Cell \u001b[1;32mIn[7], line 2\u001b[0m\n\u001b[0;32m      1\u001b[0m \u001b[38;5;28;01mfor\u001b[39;00m name \u001b[38;5;129;01min\u001b[39;00m search_list:\n\u001b[1;32m----> 2\u001b[0m     result_element, found_drinks \u001b[38;5;241m=\u001b[39m search(driver, \u001b[38;5;28mstr\u001b[39m(name))\n\u001b[0;32m      4\u001b[0m     \u001b[38;5;28mprint\u001b[39m(\u001b[38;5;124mf\u001b[39m\u001b[38;5;124m\"\u001b[39m\u001b[38;5;124m술 이름: \u001b[39m\u001b[38;5;132;01m{\u001b[39;00mname\u001b[38;5;132;01m}\u001b[39;00m\u001b[38;5;124m\"\u001b[39m)\n\u001b[0;32m      5\u001b[0m     \u001b[38;5;28mprint\u001b[39m(\u001b[38;5;124m\"\u001b[39m\u001b[38;5;124m주종:\u001b[39m\u001b[38;5;124m\"\u001b[39m, type_liquor())\n",
      "\u001b[1;31mValueError\u001b[0m: not enough values to unpack (expected 2, got 0)"
     ]
    }
   ],
   "source": [
    "for name in search_list:\n",
    "    result_element, found_drinks = search(driver, str(name))\n",
    "\n",
    "    print(f\"술 이름: {name}\")\n",
    "    print(\"주종:\", type_liquor())\n",
    "    print(\"도수:\", number_alcohol())\n",
    "    print(\"유통기한:\", expiration_date())\n",
    "    print(\"보관방법:\", storage_method())\n",
    "    print(\"어울리는 안주:\", all_side_dishes())\n",
    "    print(\"=\" * 50)\n",
    "\n",
    "print(\"Found drinks:\")\n",
    "print(\"총 {}개 입니다.\".format(len(liquor_list)))\n",
    "print(liquor_list)"
   ]
  },
  {
   "cell_type": "code",
   "execution_count": null,
   "id": "c61f6802",
   "metadata": {},
   "outputs": [],
   "source": [
    "def compare_image(image1_file, image2_path):\n",
    "    image1 = cv2.imread(\"image_file/prd/name\")\n",
    "    image2 = cv2.imread(image2_path)\n",
    "    \n",
    "    difference = cv2.subtract(image1, image2)\n",
    "    non_zero_pixels = not cv2.countNonZero(differnece)\n",
    "    \n",
    "    if non_zero_pixels == 0:\n",
    "        result = True\n",
    "    else:\n",
    "        result = False\n",
    "    \n",
    "    return result\n",
    "\n",
    "image_dict = {\n",
    "        0: os.path.join(\"C:\\TeamProject\\image\", \"icon_rating_zero.jpg\"),\n",
    "        1: os.path.join(\"C:\\TeamProject\\image\", \"icon_rating_one.jpg\"),\n",
    "        2: os.path.join(\"C:\\TeamProject\\image\", \"icon_rating_two.jpg\"),\n",
    "        3: os.path.join(\"C:\\TeamProject\\image\", \"icon_rating_three.jpg\"),\n",
    "        4: os.path.join(\"C:\\TeamProject\\image\", \"icon_rating_four.jpg\"),\n",
    "        5: os.path.join(\"C:\\TeamProject\\image\", \"icon_rating_five.jpg\")\n",
    "}\n",
    "def get_taste_information():\n",
    "    result_element\n",
    "    parent_element = '//*[@id=\"__next\"]/div/div[2]/div/div[1]/div[5]/div[2]/section'\n",
    "    taste_elements = parent_element.find_elements_by_xpath('.//div[@class=\"taste-info\"]')\n",
    "    \n",
    "    # 각 맛 정보와 이미지를 비교하여 맞는 사진을 찾고 점수를 매깁니다.\n",
    "    taste_score = []\n",
    "    for score, img_path in image_dict.items():\n",
    "        for taste_element in taste_elements:\n",
    "            if compare_image(img_path, taste_element) == True:\n",
    "                taste_score.append((score, img_path))\n",
    "                break\n",
    "    print(test_score)\n",
    "    \n",
    "    return taste_score"
   ]
  }
 ],
 "metadata": {
  "kernelspec": {
   "display_name": "Python 3 (ipykernel)",
   "language": "python",
   "name": "python3"
  },
  "language_info": {
   "codemirror_mode": {
    "name": "ipython",
    "version": 3
   },
   "file_extension": ".py",
   "mimetype": "text/x-python",
   "name": "python",
   "nbconvert_exporter": "python",
   "pygments_lexer": "ipython3",
   "version": "3.10.9"
  }
 },
 "nbformat": 4,
 "nbformat_minor": 5
}
